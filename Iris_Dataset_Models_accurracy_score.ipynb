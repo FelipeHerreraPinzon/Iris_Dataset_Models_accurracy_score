{
  "nbformat": 4,
  "nbformat_minor": 0,
  "metadata": {
    "colab": {
      "provenance": []
    },
    "kernelspec": {
      "name": "python3",
      "display_name": "Python 3"
    },
    "language_info": {
      "name": "python"
    }
  },
  "cells": [
    {
      "cell_type": "markdown",
      "source": [
        "#**Iris Dataset Decision Tree Classifier💐**"
      ],
      "metadata": {
        "id": "SzYGJLkBqQ1g"
      }
    },
    {
      "cell_type": "code",
      "execution_count": null,
      "metadata": {
        "colab": {
          "base_uri": "https://localhost:8080/"
        },
        "id": "pvTrRDxsn9mt",
        "outputId": "3c6c4d0a-fb3f-4baa-dc13-41cea38b7bc2"
      },
      "outputs": [
        {
          "output_type": "stream",
          "name": "stdout",
          "text": [
            "Precisión del modelo de árbol de decisión: 1.0\n"
          ]
        }
      ],
      "source": [
        "from sklearn.datasets import load_iris\n",
        "from sklearn.metrics import accuracy_score\n",
        "from sklearn import tree\n",
        "\n",
        "iris = load_iris()\n",
        "X, y = iris.data, iris.target\n",
        "clf = tree.DecisionTreeClassifier()\n",
        "clf = clf.fit(X, y)\n",
        "\n",
        "\n",
        "# Predecir las etiquetas del conjunto de entrenamiento\n",
        "y_pred = clf.predict(X)\n",
        "\n",
        "# Calcular la precisión del modelo\n",
        "accuracy = accuracy_score(y, y_pred)\n",
        "print(\"Precisión del modelo de árbol de decisión:\", accuracy)"
      ]
    },
    {
      "cell_type": "markdown",
      "source": [
        "#**Iris Dataset K Neighbors Classifier💐**"
      ],
      "metadata": {
        "id": "3xgGULlDrXgN"
      }
    },
    {
      "cell_type": "code",
      "source": [
        "from sklearn.datasets import load_iris\n",
        "from sklearn import tree\n",
        "from sklearn.model_selection import train_test_split\n",
        "from sklearn.neighbors import KNeighborsClassifier\n",
        "from sklearn.metrics import accuracy_score\n",
        "\n",
        "iris = load_iris()\n",
        "X, y = iris.data, iris.target\n",
        "\n",
        "# Predecir las etiquetas del conjunto de entrenamiento\n",
        "y_pred = clf.predict(X)\n",
        "\n",
        "\n",
        "accuracy = accuracy_score(y, y_pred)\n",
        "print(\"Precisión del modelo k-NN:\", accuracy)\n",
        "gfgffgfdgdfgdfkkkkkkkkkkkkkkkkkkkkuuuuuuuuuuuujjjj"
      ],
      "metadata": {
        "colab": {
          "base_uri": "https://localhost:8080/"
        },
        "id": "-G8ca9G1oOEH",
        "outputId": "de7e428e-d70d-4da4-b657-a04c3a0205d5"
      },
      "execution_count": null,
      "outputs": [
        {
          "output_type": "stream",
          "name": "stdout",
          "text": [
            "Precisión del modelo k-NN: 1.0\n"
          ]
        }
      ]
    },
    {
      "cell_type": "markdown",
      "source": [
        "#**Iris Dataset K Neighbors Classifier train y test data sets💐**"
      ],
      "metadata": {
        "id": "TOKNA6t3z-X8"
      }
    },
    {
      "cell_type": "code",
      "source": [
        "\n",
        "from sklearn.datasets import load_iris\n",
        "from sklearn import tree\n",
        "from sklearn.model_selection import train_test_split\n",
        "from sklearn.neighbors import KNeighborsClassifier\n",
        "from sklearn.metrics import accuracy_score\n",
        "\n",
        "iris = load_iris()\n",
        "X, y = iris.data, iris.target\n",
        "\n",
        "# Predecir las etiquetas del conjunto de entrenamiento\n",
        "y_pred = clf.predict(X)\n",
        "\n",
        "\n",
        " # Dividir el conjunto de datos en entrenamiento y prueba\n",
        "X_train, X_test, y_train, y_test = train_test_split(X, y, test_size=0.3, random_state=42)\n",
        "\n",
        "# Crear un clasificador k-NN\n",
        "knn_classifier = KNeighborsClassifier(n_neighbors=10) #10 vecinos\n",
        "\n",
        "# Entrenar el clasificador con el conjunto de entrenamiento\n",
        "knn_classifier.fit(X_train, y_train)\n",
        "\n",
        "# Predecir las etiquetas del conjunto de prueba\n",
        "y_pred = knn_classifier.predict(X_test)\n",
        "\n",
        "accuracy = accuracy_score(y_test, y_pred)\n",
        "print(\"Precisión del modelo k-NN:\", accuracy)"
      ],
      "metadata": {
        "colab": {
          "base_uri": "https://localhost:8080/"
        },
        "id": "TRJKzNfDxO93",
        "outputId": "6ee99bd5-fe67-4c35-812d-567207b09259"
      },
      "execution_count": null,
      "outputs": [
        {
          "output_type": "stream",
          "name": "stdout",
          "text": [
            "Precisión del modelo k-NN: 1.0\n"
          ]
        }
      ]
    },
    {
      "cell_type": "markdown",
      "source": [
        "#**Pickle 🐍**"
      ],
      "metadata": {
        "id": "hbsidS66rIEH"
      }
    },
    {
      "cell_type": "code",
      "source": [
        "import pickle\n",
        "\n",
        "# Guardar el modelo en un archivo usando pickle\n",
        "with open('knn_classifier.pkl', 'wb') as archivo:\n",
        "    pickle.dump(knn_classifier, archivo)"
      ],
      "metadata": {
        "id": "xqNnth8epRTz"
      },
      "execution_count": null,
      "outputs": []
    }
  ]
}